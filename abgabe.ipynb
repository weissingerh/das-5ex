{
 "cells": [
  {
   "cell_type": "code",
   "execution_count": 199,
   "metadata": {},
   "outputs": [],
   "source": [
    "import pandas as pd\n",
    "from sklearn.utils import shuffle\n",
    "from scipy.io import arff\n",
    "from sklearn import datasets\n",
    "from sklearn import neighbors\n",
    "from sklearn import metrics\n",
    "from ucimlrepo import fetch_ucirepo\n",
    "from sklearn.model_selection import train_test_split\n",
    "from sklearn.preprocessing import LabelEncoder\n",
    "from sklearn.linear_model import Perceptron\n",
    "from sklearn.naive_bayes import GaussianNB, BernoulliNB, MultinomialNB\n",
    "from tabulate import tabulate\n",
    "import numpy as np\n",
    "\n",
    "import time\n",
    "import datetime"
   ]
  },
  {
   "cell_type": "code",
   "execution_count": 15,
   "metadata": {},
   "outputs": [],
   "source": [
    "bone_marrow_transplant_children = fetch_ucirepo(id=565)"
   ]
  },
  {
   "cell_type": "code",
   "execution_count": 4,
   "metadata": {},
   "outputs": [
    {
     "name": "stderr",
     "output_type": "stream",
     "text": [
      "/opt/homebrew/lib/python3.11/site-packages/ucimlrepo/fetch.py:97: DtypeWarning: Columns (10) have mixed types. Specify dtype option on import or set low_memory=False.\n",
      "  df = pd.read_csv(data_url)\n"
     ]
    }
   ],
   "source": [
    "diabetesRepo = fetch_ucirepo(id=296)"
   ]
  },
  {
   "cell_type": "markdown",
   "metadata": {},
   "source": [
    "# Prepare datasets"
   ]
  },
  {
   "cell_type": "code",
   "execution_count": 196,
   "metadata": {},
   "outputs": [
    {
     "name": "stderr",
     "output_type": "stream",
     "text": [
      "/opt/homebrew/lib/python3.11/site-packages/sklearn/preprocessing/_label.py:114: DataConversionWarning: A column-vector y was passed when a 1d array was expected. Please change the shape of y to (n_samples, ), for example using ravel().\n",
      "  y = column_or_1d(y, warn=True)\n"
     ]
    },
    {
     "data": {
      "text/plain": [
       "array([2, 0, 1, ..., 2, 2, 2])"
      ]
     },
     "metadata": {},
     "output_type": "display_data"
    }
   ],
   "source": [
    "randomState = 22020\n",
    "labelEncoder = LabelEncoder()\n",
    "boneData, boneTarget = shuffle(bone_marrow_transplant_children.data.features, bone_marrow_transplant_children.data.targets, random_state=randomState)\n",
    "diabetesData, diabetesTarget = shuffle(diabetesRepo.data.features, diabetesRepo.data.targets, random_state=randomState)\n",
    "\n",
    "numericBoneData = boneData.select_dtypes(include='number')\n",
    "numericBoneTarget = boneTarget.select_dtypes(include='number')\n",
    "\n",
    "numericDiabetesData = diabetesData.select_dtypes(include='number')\n",
    "numericDiabetesTarget = labelEncoder.fit_transform(diabetesTarget)\n",
    "\n",
    "display(numericDiabetesTarget)\n",
    "\n",
    "numericBoneData = numericBoneData.fillna(0)\n",
    "numericBoneTarget = numericBoneTarget.fillna(0)\n",
    "\n",
    "xBoneTrain, xBoneTest, yBoneTrain, yBoneTest = train_test_split(numericBoneData, numericBoneTarget, test_size=0.33, random_state=(randomState+1))\n",
    "xDiabetesTrain, xDiabetesTest, yDiabetesTrain, yDiabetesTest = train_test_split(numericDiabetesData, numericDiabetesTarget, test_size=0.33, random_state=(randomState+1))"
   ]
  },
  {
   "cell_type": "markdown",
   "metadata": {},
   "source": [
    "## Helper functions"
   ]
  },
  {
   "cell_type": "code",
   "execution_count": 160,
   "metadata": {},
   "outputs": [],
   "source": [
    "columns = [\"Model\", \"Accuracy\", \"Precision\", \"Training Time\", \"Testing Time\"]\n",
    "def printTable(cols, data):\n",
    "    print(tabulate(data, headers=cols, tablefmt=\"grid\"))\n",
    "\n",
    "def getMeasures(classifier, X_train, X_test, y_train, y_test):\n",
    "    startTimeTrain = time.time()\n",
    "    classifier.fit(X_train, y_train)\n",
    "    endTimeTrain = time.time()\n",
    "    trainingTime = endTimeTrain - startTimeTrain\n",
    "\n",
    "    startTimeTest = time.time()\n",
    "    yTestPredicted = classifier.predict(X_test)\n",
    "    endTimeTest = time.time()\n",
    "    testingTime = endTimeTest - startTimeTest\n",
    "\n",
    "    accuracy = metrics.accuracy_score(y_test, yTestPredicted)\n",
    "    precision = metrics.precision_score(y_test, yTestPredicted, average=\"micro\")\n",
    "    return (accuracy, precision, trainingTime, testingTime)"
   ]
  },
  {
   "cell_type": "markdown",
   "metadata": {},
   "source": [
    "## KNN"
   ]
  },
  {
   "cell_type": "code",
   "execution_count": 145,
   "metadata": {},
   "outputs": [],
   "source": [
    "noNeighbors = [10, 20, 40]\n",
    "\n",
    "def calcKNN(X_train, X_test, y_train, y_test):\n",
    "    data = []\n",
    "    for neighbor in noNeighbors:\n",
    "        classifier = neighbors.KNeighborsClassifier(neighbor)\n",
    "        \n",
    "        accuracy, precision, trainingTime, testingTime = getMeasures(classifier, X_train, X_test, y_train, y_test)\n",
    "        dataIteration = [\"KNN (\" + str(neighbor) + \" Neighbors)\", str(accuracy), str(precision), str(trainingTime) + \"s\", str(testingTime) + \"s\"]\n",
    "        data.append(dataIteration)\n",
    "    return data\n"
   ]
  },
  {
   "cell_type": "markdown",
   "metadata": {},
   "source": [
    "## Perceptron"
   ]
  },
  {
   "cell_type": "code",
   "execution_count": 146,
   "metadata": {},
   "outputs": [],
   "source": [
    "# With the help of https://www.geeksforgeeks.org/sklearn-perceptron/, but barely.\n",
    "\n",
    "pLearningRate = 0.1\n",
    "iterations = 50\n",
    "\n",
    "def calcPerceptron(X_train, X_test, y_train, y_test):\n",
    "    data = []\n",
    "\n",
    "    classifier = Perceptron(max_iter=iterations, eta0=0.1, random_state=randomState)\n",
    "    accuracy, precision, trainingTime, testingTime = getMeasures(classifier, X_train, X_test, y_train, y_test)\n",
    "    dataIteration = [\"Perceptron\", str(accuracy), str(precision), str(trainingTime) + \"s\", str(testingTime) + \"s\"]\n",
    "    data.append(dataIteration)\n",
    "    \n",
    "    return data\n",
    "\n"
   ]
  },
  {
   "cell_type": "markdown",
   "metadata": {},
   "source": [
    "## Naive Bayes (Gaussian)"
   ]
  },
  {
   "cell_type": "code",
   "execution_count": 169,
   "metadata": {},
   "outputs": [],
   "source": [
    "\n",
    "def calcGaussianNaiveBayes(X_train, X_test, y_train, y_test):\n",
    "    data = []\n",
    "\n",
    "    classifier = GaussianNB()\n",
    "    accuracy, precision, trainingTime, testingTime = getMeasures(classifier, X_train, X_test, y_train, y_test)\n",
    "    dataIteration = [\"Naive Bayes (Gaussian)\", str(accuracy), str(precision), str(trainingTime) + \"s\", str(testingTime) + \"s\"]\n",
    "    data.append(dataIteration)\n",
    "\n",
    "    return data"
   ]
  },
  {
   "cell_type": "markdown",
   "metadata": {},
   "source": [
    "## Naive Bayes (Bernoulli)"
   ]
  },
  {
   "cell_type": "code",
   "execution_count": 170,
   "metadata": {},
   "outputs": [],
   "source": [
    "def calcBernoulliNaiveBayes(X_train, X_test, y_train, y_test):\n",
    "    data = []\n",
    "\n",
    "    classifier = BernoulliNB()\n",
    "    accuracy, precision, trainingTime, testingTime = getMeasures(classifier, X_train, X_test, y_train, y_test)\n",
    "    dataIteration = [\"Naive Bayes (Bernoulli)\", str(accuracy), str(precision), str(trainingTime) + \"s\", str(testingTime) + \"s\"]\n",
    "    data.append(dataIteration)\n",
    "\n",
    "    return data"
   ]
  },
  {
   "cell_type": "code",
   "execution_count": 200,
   "metadata": {},
   "outputs": [],
   "source": [
    "def calcMultinominalNaiveBayes(X_train, X_test, y_train, y_test):\n",
    "    data = []\n",
    "\n",
    "    classifier = MultinomialNB()\n",
    "    accuracy, precision, trainingTime, testingTime = getMeasures(classifier, X_train, X_test, y_train, y_test)\n",
    "    dataIteration = [\"Naive Bayes (Multinominal)\", str(accuracy), str(precision), str(trainingTime) + \"s\", str(testingTime) + \"s\"]\n",
    "    data.append(dataIteration)\n",
    "\n",
    "    return data"
   ]
  },
  {
   "cell_type": "markdown",
   "metadata": {},
   "source": [
    "## Bone Marrow dataset"
   ]
  },
  {
   "cell_type": "code",
   "execution_count": 201,
   "metadata": {},
   "outputs": [
    {
     "name": "stderr",
     "output_type": "stream",
     "text": [
      "/opt/homebrew/lib/python3.11/site-packages/sklearn/neighbors/_classification.py:233: DataConversionWarning: A column-vector y was passed when a 1d array was expected. Please change the shape of y to (n_samples,), for example using ravel().\n",
      "  return self._fit(X, y)\n",
      "/opt/homebrew/lib/python3.11/site-packages/sklearn/neighbors/_classification.py:233: DataConversionWarning: A column-vector y was passed when a 1d array was expected. Please change the shape of y to (n_samples,), for example using ravel().\n",
      "  return self._fit(X, y)\n",
      "/opt/homebrew/lib/python3.11/site-packages/sklearn/neighbors/_classification.py:233: DataConversionWarning: A column-vector y was passed when a 1d array was expected. Please change the shape of y to (n_samples,), for example using ravel().\n",
      "  return self._fit(X, y)\n",
      "/opt/homebrew/lib/python3.11/site-packages/sklearn/utils/validation.py:1183: DataConversionWarning: A column-vector y was passed when a 1d array was expected. Please change the shape of y to (n_samples, ), for example using ravel().\n",
      "  y = column_or_1d(y, warn=True)\n",
      "/opt/homebrew/lib/python3.11/site-packages/sklearn/utils/validation.py:1183: DataConversionWarning: A column-vector y was passed when a 1d array was expected. Please change the shape of y to (n_samples, ), for example using ravel().\n",
      "  y = column_or_1d(y, warn=True)\n",
      "/opt/homebrew/lib/python3.11/site-packages/sklearn/utils/validation.py:1183: DataConversionWarning: A column-vector y was passed when a 1d array was expected. Please change the shape of y to (n_samples, ), for example using ravel().\n",
      "  y = column_or_1d(y, warn=True)\n",
      "/opt/homebrew/lib/python3.11/site-packages/sklearn/utils/validation.py:1183: DataConversionWarning: A column-vector y was passed when a 1d array was expected. Please change the shape of y to (n_samples, ), for example using ravel().\n",
      "  y = column_or_1d(y, warn=True)\n"
     ]
    },
    {
     "ename": "ValueError",
     "evalue": "Negative values in data passed to MultinomialNB (input X)",
     "output_type": "error",
     "traceback": [
      "\u001b[0;31m---------------------------------------------------------------------------\u001b[0m",
      "\u001b[0;31mValueError\u001b[0m                                Traceback (most recent call last)",
      "Cell \u001b[0;32mIn[201], line 7\u001b[0m\n\u001b[1;32m      5\u001b[0m boneMarrowTable \u001b[38;5;241m+\u001b[39m\u001b[38;5;241m=\u001b[39m calcGaussianNaiveBayes(xBoneTrain, xBoneTest, yBoneTrain, yBoneTest)\n\u001b[1;32m      6\u001b[0m boneMarrowTable \u001b[38;5;241m+\u001b[39m\u001b[38;5;241m=\u001b[39m calcBernoulliNaiveBayes(xBoneTrain, xBoneTest, yBoneTrain, yBoneTest)\n\u001b[0;32m----> 7\u001b[0m boneMarrowTable \u001b[38;5;241m+\u001b[39m\u001b[38;5;241m=\u001b[39m \u001b[43mcalcMultinominalNaiveBayes\u001b[49m\u001b[43m(\u001b[49m\u001b[43mxBoneTrain\u001b[49m\u001b[43m,\u001b[49m\u001b[43m \u001b[49m\u001b[43mxBoneTest\u001b[49m\u001b[43m,\u001b[49m\u001b[43m \u001b[49m\u001b[43myBoneTrain\u001b[49m\u001b[43m,\u001b[49m\u001b[43m \u001b[49m\u001b[43myBoneTest\u001b[49m\u001b[43m)\u001b[49m\n\u001b[1;32m      9\u001b[0m printTable(columns, boneMarrowTable)\n",
      "Cell \u001b[0;32mIn[200], line 5\u001b[0m, in \u001b[0;36mcalcMultinominalNaiveBayes\u001b[0;34m(X_train, X_test, y_train, y_test)\u001b[0m\n\u001b[1;32m      2\u001b[0m data \u001b[38;5;241m=\u001b[39m []\n\u001b[1;32m      4\u001b[0m classifier \u001b[38;5;241m=\u001b[39m MultinomialNB()\n\u001b[0;32m----> 5\u001b[0m accuracy, precision, trainingTime, testingTime \u001b[38;5;241m=\u001b[39m \u001b[43mgetMeasures\u001b[49m\u001b[43m(\u001b[49m\u001b[43mclassifier\u001b[49m\u001b[43m,\u001b[49m\u001b[43m \u001b[49m\u001b[43mX_train\u001b[49m\u001b[43m,\u001b[49m\u001b[43m \u001b[49m\u001b[43mX_test\u001b[49m\u001b[43m,\u001b[49m\u001b[43m \u001b[49m\u001b[43my_train\u001b[49m\u001b[43m,\u001b[49m\u001b[43m \u001b[49m\u001b[43my_test\u001b[49m\u001b[43m)\u001b[49m\n\u001b[1;32m      6\u001b[0m dataIteration \u001b[38;5;241m=\u001b[39m [\u001b[38;5;124m\"\u001b[39m\u001b[38;5;124mNaive Bayes (Multinominal)\u001b[39m\u001b[38;5;124m\"\u001b[39m, \u001b[38;5;28mstr\u001b[39m(accuracy), \u001b[38;5;28mstr\u001b[39m(precision), \u001b[38;5;28mstr\u001b[39m(trainingTime) \u001b[38;5;241m+\u001b[39m \u001b[38;5;124m\"\u001b[39m\u001b[38;5;124ms\u001b[39m\u001b[38;5;124m\"\u001b[39m, \u001b[38;5;28mstr\u001b[39m(testingTime) \u001b[38;5;241m+\u001b[39m \u001b[38;5;124m\"\u001b[39m\u001b[38;5;124ms\u001b[39m\u001b[38;5;124m\"\u001b[39m]\n\u001b[1;32m      7\u001b[0m data\u001b[38;5;241m.\u001b[39mappend(dataIteration)\n",
      "Cell \u001b[0;32mIn[160], line 7\u001b[0m, in \u001b[0;36mgetMeasures\u001b[0;34m(classifier, X_train, X_test, y_train, y_test)\u001b[0m\n\u001b[1;32m      5\u001b[0m \u001b[38;5;28;01mdef\u001b[39;00m \u001b[38;5;21mgetMeasures\u001b[39m(classifier, X_train, X_test, y_train, y_test):\n\u001b[1;32m      6\u001b[0m     startTimeTrain \u001b[38;5;241m=\u001b[39m time\u001b[38;5;241m.\u001b[39mtime()\n\u001b[0;32m----> 7\u001b[0m     \u001b[43mclassifier\u001b[49m\u001b[38;5;241;43m.\u001b[39;49m\u001b[43mfit\u001b[49m\u001b[43m(\u001b[49m\u001b[43mX_train\u001b[49m\u001b[43m,\u001b[49m\u001b[43m \u001b[49m\u001b[43my_train\u001b[49m\u001b[43m)\u001b[49m\n\u001b[1;32m      8\u001b[0m     endTimeTrain \u001b[38;5;241m=\u001b[39m time\u001b[38;5;241m.\u001b[39mtime()\n\u001b[1;32m      9\u001b[0m     trainingTime \u001b[38;5;241m=\u001b[39m endTimeTrain \u001b[38;5;241m-\u001b[39m startTimeTrain\n",
      "File \u001b[0;32m/opt/homebrew/lib/python3.11/site-packages/sklearn/base.py:1152\u001b[0m, in \u001b[0;36m_fit_context.<locals>.decorator.<locals>.wrapper\u001b[0;34m(estimator, *args, **kwargs)\u001b[0m\n\u001b[1;32m   1145\u001b[0m     estimator\u001b[38;5;241m.\u001b[39m_validate_params()\n\u001b[1;32m   1147\u001b[0m \u001b[38;5;28;01mwith\u001b[39;00m config_context(\n\u001b[1;32m   1148\u001b[0m     skip_parameter_validation\u001b[38;5;241m=\u001b[39m(\n\u001b[1;32m   1149\u001b[0m         prefer_skip_nested_validation \u001b[38;5;129;01mor\u001b[39;00m global_skip_validation\n\u001b[1;32m   1150\u001b[0m     )\n\u001b[1;32m   1151\u001b[0m ):\n\u001b[0;32m-> 1152\u001b[0m     \u001b[38;5;28;01mreturn\u001b[39;00m \u001b[43mfit_method\u001b[49m\u001b[43m(\u001b[49m\u001b[43mestimator\u001b[49m\u001b[43m,\u001b[49m\u001b[43m \u001b[49m\u001b[38;5;241;43m*\u001b[39;49m\u001b[43margs\u001b[49m\u001b[43m,\u001b[49m\u001b[43m \u001b[49m\u001b[38;5;241;43m*\u001b[39;49m\u001b[38;5;241;43m*\u001b[39;49m\u001b[43mkwargs\u001b[49m\u001b[43m)\u001b[49m\n",
      "File \u001b[0;32m/opt/homebrew/lib/python3.11/site-packages/sklearn/naive_bayes.py:772\u001b[0m, in \u001b[0;36m_BaseDiscreteNB.fit\u001b[0;34m(self, X, y, sample_weight)\u001b[0m\n\u001b[1;32m    770\u001b[0m n_classes \u001b[38;5;241m=\u001b[39m Y\u001b[38;5;241m.\u001b[39mshape[\u001b[38;5;241m1\u001b[39m]\n\u001b[1;32m    771\u001b[0m \u001b[38;5;28mself\u001b[39m\u001b[38;5;241m.\u001b[39m_init_counters(n_classes, n_features)\n\u001b[0;32m--> 772\u001b[0m \u001b[38;5;28;43mself\u001b[39;49m\u001b[38;5;241;43m.\u001b[39;49m\u001b[43m_count\u001b[49m\u001b[43m(\u001b[49m\u001b[43mX\u001b[49m\u001b[43m,\u001b[49m\u001b[43m \u001b[49m\u001b[43mY\u001b[49m\u001b[43m)\u001b[49m\n\u001b[1;32m    773\u001b[0m alpha \u001b[38;5;241m=\u001b[39m \u001b[38;5;28mself\u001b[39m\u001b[38;5;241m.\u001b[39m_check_alpha()\n\u001b[1;32m    774\u001b[0m \u001b[38;5;28mself\u001b[39m\u001b[38;5;241m.\u001b[39m_update_feature_log_prob(alpha)\n",
      "File \u001b[0;32m/opt/homebrew/lib/python3.11/site-packages/sklearn/naive_bayes.py:894\u001b[0m, in \u001b[0;36mMultinomialNB._count\u001b[0;34m(self, X, Y)\u001b[0m\n\u001b[1;32m    892\u001b[0m \u001b[38;5;28;01mdef\u001b[39;00m \u001b[38;5;21m_count\u001b[39m(\u001b[38;5;28mself\u001b[39m, X, Y):\n\u001b[1;32m    893\u001b[0m \u001b[38;5;250m    \u001b[39m\u001b[38;5;124;03m\"\"\"Count and smooth feature occurrences.\"\"\"\u001b[39;00m\n\u001b[0;32m--> 894\u001b[0m     \u001b[43mcheck_non_negative\u001b[49m\u001b[43m(\u001b[49m\u001b[43mX\u001b[49m\u001b[43m,\u001b[49m\u001b[43m \u001b[49m\u001b[38;5;124;43m\"\u001b[39;49m\u001b[38;5;124;43mMultinomialNB (input X)\u001b[39;49m\u001b[38;5;124;43m\"\u001b[39;49m\u001b[43m)\u001b[49m\n\u001b[1;32m    895\u001b[0m     \u001b[38;5;28mself\u001b[39m\u001b[38;5;241m.\u001b[39mfeature_count_ \u001b[38;5;241m+\u001b[39m\u001b[38;5;241m=\u001b[39m safe_sparse_dot(Y\u001b[38;5;241m.\u001b[39mT, X)\n\u001b[1;32m    896\u001b[0m     \u001b[38;5;28mself\u001b[39m\u001b[38;5;241m.\u001b[39mclass_count_ \u001b[38;5;241m+\u001b[39m\u001b[38;5;241m=\u001b[39m Y\u001b[38;5;241m.\u001b[39msum(axis\u001b[38;5;241m=\u001b[39m\u001b[38;5;241m0\u001b[39m)\n",
      "File \u001b[0;32m/opt/homebrew/lib/python3.11/site-packages/sklearn/utils/validation.py:1489\u001b[0m, in \u001b[0;36mcheck_non_negative\u001b[0;34m(X, whom)\u001b[0m\n\u001b[1;32m   1486\u001b[0m     X_min \u001b[38;5;241m=\u001b[39m xp\u001b[38;5;241m.\u001b[39mmin(X)\n\u001b[1;32m   1488\u001b[0m \u001b[38;5;28;01mif\u001b[39;00m X_min \u001b[38;5;241m<\u001b[39m \u001b[38;5;241m0\u001b[39m:\n\u001b[0;32m-> 1489\u001b[0m     \u001b[38;5;28;01mraise\u001b[39;00m \u001b[38;5;167;01mValueError\u001b[39;00m(\u001b[38;5;124m\"\u001b[39m\u001b[38;5;124mNegative values in data passed to \u001b[39m\u001b[38;5;132;01m%s\u001b[39;00m\u001b[38;5;124m\"\u001b[39m \u001b[38;5;241m%\u001b[39m whom)\n",
      "\u001b[0;31mValueError\u001b[0m: Negative values in data passed to MultinomialNB (input X)"
     ]
    }
   ],
   "source": [
    "boneMarrowTable = []\n",
    "\n",
    "boneMarrowTable += calcKNN(xBoneTrain, xBoneTest, yBoneTrain, yBoneTest)\n",
    "boneMarrowTable += calcPerceptron(xBoneTrain, xBoneTest, yBoneTrain, yBoneTest)\n",
    "boneMarrowTable += calcGaussianNaiveBayes(xBoneTrain, xBoneTest, yBoneTrain, yBoneTest)\n",
    "boneMarrowTable += calcBernoulliNaiveBayes(xBoneTrain, xBoneTest, yBoneTrain, yBoneTest)\n",
    "boneMarrowTable += calcMultinominalNaiveBayes(xBoneTrain, xBoneTest, yBoneTrain, yBoneTest)\n",
    "\n",
    "printTable(columns, boneMarrowTable)"
   ]
  },
  {
   "cell_type": "markdown",
   "metadata": {},
   "source": [
    "## Diabetes dataset"
   ]
  },
  {
   "cell_type": "code",
   "execution_count": 172,
   "metadata": {},
   "outputs": [
    {
     "name": "stdout",
     "output_type": "stream",
     "text": [
      "+-------------------------+------------+-------------+-----------------------+------------------------+\n",
      "| Model                   |   Accuracy |   Precision | Training Time         | Testing Time           |\n",
      "+=========================+============+=============+=======================+========================+\n",
      "| KNN (10 Neighbors)      |   0.530685 |    0.530685 | 0.03760480880737305s  | 1.9086682796478271s    |\n",
      "+-------------------------+------------+-------------+-----------------------+------------------------+\n",
      "| KNN (20 Neighbors)      |   0.550755 |    0.550755 | 0.02330803871154785s  | 2.117655038833618s     |\n",
      "+-------------------------+------------+-------------+-----------------------+------------------------+\n",
      "| KNN (40 Neighbors)      |   0.558824 |    0.558824 | 0.02327585220336914s  | 2.559847116470337s     |\n",
      "+-------------------------+------------+-------------+-----------------------+------------------------+\n",
      "| Perceptron              |   0.548164 |    0.548164 | 0.07192087173461914s  | 0.0019681453704833984s |\n",
      "+-------------------------+------------+-------------+-----------------------+------------------------+\n",
      "| Naive Bayes (Gaussian)  |   0.556144 |    0.556144 | 0.008848190307617188s | 0.0032999515533447266s |\n",
      "+-------------------------+------------+-------------+-----------------------+------------------------+\n",
      "| Naive Bayes (Bernoulli) |   0.559092 |    0.559092 | 0.020870685577392578s | 0.004179239273071289s  |\n",
      "+-------------------------+------------+-------------+-----------------------+------------------------+\n"
     ]
    }
   ],
   "source": [
    "diabetesTable = []\n",
    "\n",
    "diabetesTable += calcKNN(xDiabetesTrain, xDiabetesTest, yDiabetesTrain, yDiabetesTest)\n",
    "diabetesTable += calcPerceptron(xDiabetesTrain, xDiabetesTest, yDiabetesTrain, yDiabetesTest)\n",
    "diabetesTable += calcGaussianNaiveBayes(xDiabetesTrain, xDiabetesTest, yDiabetesTrain, yDiabetesTest)\n",
    "diabetesTable += calcBernoulliNaiveBayes(xDiabetesTrain, xDiabetesTest, yDiabetesTrain, yDiabetesTest)\n",
    "\n",
    "printTable(columns, diabetesTable)"
   ]
  }
 ],
 "metadata": {
  "kernelspec": {
   "display_name": "Python 3",
   "language": "python",
   "name": "python3"
  },
  "language_info": {
   "codemirror_mode": {
    "name": "ipython",
    "version": 3
   },
   "file_extension": ".py",
   "mimetype": "text/x-python",
   "name": "python",
   "nbconvert_exporter": "python",
   "pygments_lexer": "ipython3",
   "version": "3.11.6"
  }
 },
 "nbformat": 4,
 "nbformat_minor": 2
}
