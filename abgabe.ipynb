{
 "cells": [
  {
   "cell_type": "code",
   "execution_count": 6,
   "metadata": {},
   "outputs": [],
   "source": [
    "from sklearn.utils import shuffle\n",
    "from sklearn import neighbors, metrics\n",
    "from ucimlrepo import fetch_ucirepo\n",
    "from sklearn.model_selection import train_test_split\n",
    "from sklearn.preprocessing import LabelEncoder\n",
    "from sklearn.linear_model import Perceptron\n",
    "from sklearn.naive_bayes import GaussianNB, BernoulliNB\n",
    "from tabulate import tabulate\n",
    "\n",
    "import time"
   ]
  },
  {
   "cell_type": "code",
   "execution_count": 7,
   "metadata": {},
   "outputs": [],
   "source": [
    "bone_marrow_transplant_children = fetch_ucirepo(id=565)"
   ]
  },
  {
   "cell_type": "code",
   "execution_count": 8,
   "metadata": {},
   "outputs": [
    {
     "name": "stderr",
     "output_type": "stream",
     "text": [
      "/opt/homebrew/lib/python3.11/site-packages/ucimlrepo/fetch.py:97: DtypeWarning: Columns (10) have mixed types. Specify dtype option on import or set low_memory=False.\n",
      "  df = pd.read_csv(data_url)\n"
     ]
    }
   ],
   "source": [
    "diabetesRepo = fetch_ucirepo(id=296)"
   ]
  },
  {
   "cell_type": "markdown",
   "metadata": {},
   "source": [
    "# Prepare datasets"
   ]
  },
  {
   "cell_type": "code",
   "execution_count": 9,
   "metadata": {},
   "outputs": [
    {
     "name": "stderr",
     "output_type": "stream",
     "text": [
      "/opt/homebrew/lib/python3.11/site-packages/sklearn/preprocessing/_label.py:114: DataConversionWarning: A column-vector y was passed when a 1d array was expected. Please change the shape of y to (n_samples, ), for example using ravel().\n",
      "  y = column_or_1d(y, warn=True)\n"
     ]
    }
   ],
   "source": [
    "randomState = 22020\n",
    "labelEncoder = LabelEncoder()\n",
    "boneData, boneTarget = shuffle(bone_marrow_transplant_children.data.features, bone_marrow_transplant_children.data.targets, random_state=randomState)\n",
    "diabetesData, diabetesTarget = shuffle(diabetesRepo.data.features, diabetesRepo.data.targets, random_state=randomState)\n",
    "\n",
    "numericBoneData = boneData.select_dtypes(include='number')\n",
    "numericBoneTarget = boneTarget.select_dtypes(include='number')\n",
    "\n",
    "numericDiabetesData = diabetesData.select_dtypes(include='number')\n",
    "numericDiabetesTarget = labelEncoder.fit_transform(diabetesTarget)\n",
    "\n",
    "numericBoneData = numericBoneData.fillna(0)\n",
    "numericBoneTarget = numericBoneTarget.fillna(0)\n",
    "\n",
    "xBoneTrain, xBoneTest, yBoneTrain, yBoneTest = train_test_split(numericBoneData, numericBoneTarget, test_size=0.33, random_state=(randomState+1))\n",
    "xDiabetesTrain, xDiabetesTest, yDiabetesTrain, yDiabetesTest = train_test_split(numericDiabetesData, numericDiabetesTarget, test_size=0.33, random_state=(randomState+1))"
   ]
  },
  {
   "cell_type": "markdown",
   "metadata": {},
   "source": [
    "## Helper functions"
   ]
  },
  {
   "cell_type": "code",
   "execution_count": 10,
   "metadata": {},
   "outputs": [],
   "source": [
    "columns = [\"Model\", \"Accuracy\", \"Precision\", \"Recall\", \"Training Time\", \"Testing Time\"]\n",
    "def printTable(cols, data):\n",
    "    print(tabulate(data, headers=cols, tablefmt=\"grid\"))\n",
    "\n",
    "def getMeasures(classifier, X_train, X_test, y_train, y_test):\n",
    "    startTimeTrain = time.time()\n",
    "    classifier.fit(X_train, y_train)\n",
    "    endTimeTrain = time.time()\n",
    "    trainingTime = endTimeTrain - startTimeTrain\n",
    "\n",
    "    startTimeTest = time.time()\n",
    "    yTestPredicted = classifier.predict(X_test)\n",
    "    endTimeTest = time.time()\n",
    "    testingTime = endTimeTest - startTimeTest\n",
    "\n",
    "    accuracy = metrics.accuracy_score(y_test, yTestPredicted)\n",
    "    precision = metrics.precision_score(y_test, yTestPredicted, average=\"micro\")\n",
    "    recall = metrics.recall_score(y_test, yTestPredicted, average='macro')\n",
    "    return (accuracy, precision, recall, trainingTime, testingTime)\n",
    "\n",
    "def collectIterationData(classifierName, classifier, X_train, X_test, y_train, y_test):\n",
    "    accuracy, precision, recall, trainingTime, testingTime = getMeasures(classifier, X_train, X_test, y_train, y_test)\n",
    "    return [classifierName, str(accuracy), str(precision), str(recall), str(trainingTime) + \"s\", str(testingTime) + \"s\"]"
   ]
  },
  {
   "cell_type": "markdown",
   "metadata": {},
   "source": [
    "## KNN"
   ]
  },
  {
   "cell_type": "code",
   "execution_count": 11,
   "metadata": {},
   "outputs": [],
   "source": [
    "noNeighbors = [20, 40, 80]\n",
    "\n",
    "def calcKNN(X_train, X_test, y_train, y_test):\n",
    "    data = []\n",
    "    for neighbor in noNeighbors:\n",
    "        classifierName = \"KNN (\" + str(neighbor) + \" Neighbors)\"\n",
    "        classifier = neighbors.KNeighborsClassifier(neighbor)\n",
    "\n",
    "        dataIteration = collectIterationData(classifierName, classifier, X_train, X_test, y_train, y_test)\n",
    "        data.append(dataIteration)\n",
    "    return data\n"
   ]
  },
  {
   "cell_type": "markdown",
   "metadata": {},
   "source": [
    "## Perceptron"
   ]
  },
  {
   "cell_type": "code",
   "execution_count": 12,
   "metadata": {},
   "outputs": [],
   "source": [
    "# With the help of https://www.geeksforgeeks.org/sklearn-perceptron/, but barely.\n",
    "\n",
    "learningRate = 0.1\n",
    "iterations = 50\n",
    "\n",
    "def calcPerceptron(X_train, X_test, y_train, y_test):\n",
    "    data = []\n",
    "\n",
    "    classifierName = \"Perceptron\"\n",
    "    classifier = Perceptron(max_iter=iterations, eta0=learningRate, random_state=randomState)\n",
    "    dataIteration = collectIterationData(classifierName, classifier, X_train, X_test, y_train, y_test)\n",
    "\n",
    "    data.append(dataIteration)\n",
    "    \n",
    "    return data\n",
    "\n"
   ]
  },
  {
   "cell_type": "markdown",
   "metadata": {},
   "source": [
    "## Naive Bayes (Gaussian)"
   ]
  },
  {
   "cell_type": "code",
   "execution_count": 13,
   "metadata": {},
   "outputs": [],
   "source": [
    "def calcGaussianNaiveBayes(X_train, X_test, y_train, y_test):\n",
    "    data = []\n",
    "\n",
    "    classifierName = \"Naive Bayes (Gaussian)\"\n",
    "    classifier = GaussianNB()\n",
    "    dataIteration = collectIterationData(classifierName, classifier, X_train, X_test, y_train, y_test)\n",
    "    \n",
    "    data.append(dataIteration)\n",
    "\n",
    "    return data"
   ]
  },
  {
   "cell_type": "markdown",
   "metadata": {},
   "source": [
    "## Naive Bayes (Bernoulli)"
   ]
  },
  {
   "cell_type": "code",
   "execution_count": 14,
   "metadata": {},
   "outputs": [],
   "source": [
    "def calcBernoulliNaiveBayes(X_train, X_test, y_train, y_test):\n",
    "    data = []\n",
    "\n",
    "    classifierName = \"Naive Bayes (Bernoulli)\"\n",
    "    classifier = BernoulliNB()\n",
    "    dataIteration = collectIterationData(classifierName, classifier, X_train, X_test, y_train, y_test)\n",
    "    \n",
    "    data.append(dataIteration)\n",
    "\n",
    "    return data"
   ]
  },
  {
   "cell_type": "markdown",
   "metadata": {},
   "source": [
    "## Bone Marrow dataset"
   ]
  },
  {
   "cell_type": "code",
   "execution_count": 15,
   "metadata": {},
   "outputs": [
    {
     "name": "stderr",
     "output_type": "stream",
     "text": [
      "/opt/homebrew/lib/python3.11/site-packages/sklearn/neighbors/_classification.py:233: DataConversionWarning: A column-vector y was passed when a 1d array was expected. Please change the shape of y to (n_samples,), for example using ravel().\n",
      "  return self._fit(X, y)\n",
      "/opt/homebrew/lib/python3.11/site-packages/sklearn/neighbors/_classification.py:233: DataConversionWarning: A column-vector y was passed when a 1d array was expected. Please change the shape of y to (n_samples,), for example using ravel().\n",
      "  return self._fit(X, y)\n",
      "/opt/homebrew/lib/python3.11/site-packages/sklearn/neighbors/_classification.py:233: DataConversionWarning: A column-vector y was passed when a 1d array was expected. Please change the shape of y to (n_samples,), for example using ravel().\n",
      "  return self._fit(X, y)\n",
      "/opt/homebrew/lib/python3.11/site-packages/sklearn/utils/validation.py:1183: DataConversionWarning: A column-vector y was passed when a 1d array was expected. Please change the shape of y to (n_samples, ), for example using ravel().\n",
      "  y = column_or_1d(y, warn=True)\n"
     ]
    },
    {
     "name": "stdout",
     "output_type": "stream",
     "text": [
      "+-------------------------+------------+-------------+----------+------------------------+------------------------+\n",
      "| Model                   |   Accuracy |   Precision |   Recall | Training Time          | Testing Time           |\n",
      "+=========================+============+=============+==========+========================+========================+\n",
      "| KNN (20 Neighbors)      |   0.83871  |    0.83871  | 0.840212 | 0.00527501106262207s   | 0.13753604888916016s   |\n",
      "+-------------------------+------------+-------------+----------+------------------------+------------------------+\n",
      "| KNN (40 Neighbors)      |   0.919355 |    0.919355 | 0.920106 | 0.0030858516693115234s | 0.004518985748291016s  |\n",
      "+-------------------------+------------+-------------+----------+------------------------+------------------------+\n",
      "| KNN (80 Neighbors)      |   0.677419 |    0.677419 | 0.62963  | 0.0007240772247314453s | 0.020986080169677734s  |\n",
      "+-------------------------+------------+-------------+----------+------------------------+------------------------+\n",
      "| Perceptron              |   0.645161 |    0.645161 | 0.592593 | 0.006169795989990234s  | 0.0007369518280029297s |\n",
      "+-------------------------+------------+-------------+----------+------------------------+------------------------+\n",
      "| Naive Bayes (Gaussian)  |   0.629032 |    0.629032 | 0.574074 | 0.00571894645690918s   | 0.0004558563232421875s |\n",
      "+-------------------------+------------+-------------+----------+------------------------+------------------------+\n",
      "| Naive Bayes (Bernoulli) |   0.725806 |    0.725806 | 0.727513 | 0.00189208984375s      | 0.0017139911651611328s |\n",
      "+-------------------------+------------+-------------+----------+------------------------+------------------------+\n"
     ]
    },
    {
     "name": "stderr",
     "output_type": "stream",
     "text": [
      "/opt/homebrew/lib/python3.11/site-packages/sklearn/utils/validation.py:1183: DataConversionWarning: A column-vector y was passed when a 1d array was expected. Please change the shape of y to (n_samples, ), for example using ravel().\n",
      "  y = column_or_1d(y, warn=True)\n",
      "/opt/homebrew/lib/python3.11/site-packages/sklearn/utils/validation.py:1183: DataConversionWarning: A column-vector y was passed when a 1d array was expected. Please change the shape of y to (n_samples, ), for example using ravel().\n",
      "  y = column_or_1d(y, warn=True)\n"
     ]
    }
   ],
   "source": [
    "boneMarrowTable = []\n",
    "\n",
    "boneMarrowTable += calcKNN(xBoneTrain, xBoneTest, yBoneTrain, yBoneTest)\n",
    "boneMarrowTable += calcPerceptron(xBoneTrain, xBoneTest, yBoneTrain, yBoneTest)\n",
    "boneMarrowTable += calcGaussianNaiveBayes(xBoneTrain, xBoneTest, yBoneTrain, yBoneTest)\n",
    "boneMarrowTable += calcBernoulliNaiveBayes(xBoneTrain, xBoneTest, yBoneTrain, yBoneTest)\n",
    "\n",
    "printTable(columns, boneMarrowTable)"
   ]
  },
  {
   "cell_type": "markdown",
   "metadata": {},
   "source": [
    "## Diabetes dataset"
   ]
  },
  {
   "cell_type": "code",
   "execution_count": 16,
   "metadata": {},
   "outputs": [
    {
     "name": "stdout",
     "output_type": "stream",
     "text": [
      "+-------------------------+------------+-------------+----------+-----------------------+------------------------+\n",
      "| Model                   |   Accuracy |   Precision |   Recall | Training Time         | Testing Time           |\n",
      "+=========================+============+=============+==========+=======================+========================+\n",
      "| KNN (20 Neighbors)      |   0.550755 |    0.550755 | 0.382688 | 0.03202390670776367s  | 2.3535330295562744s    |\n",
      "+-------------------------+------------+-------------+----------+-----------------------+------------------------+\n",
      "| KNN (40 Neighbors)      |   0.558824 |    0.558824 | 0.376338 | 0.024196863174438477s | 2.769627094268799s     |\n",
      "+-------------------------+------------+-------------+----------+-----------------------+------------------------+\n",
      "| KNN (80 Neighbors)      |   0.556234 |    0.556234 | 0.367199 | 0.024379968643188477s | 3.5231099128723145s    |\n",
      "+-------------------------+------------+-------------+----------+-----------------------+------------------------+\n",
      "| Perceptron              |   0.548164 |    0.548164 | 0.351074 | 0.0812530517578125s   | 0.006426811218261719s  |\n",
      "+-------------------------+------------+-------------+----------+-----------------------+------------------------+\n",
      "| Naive Bayes (Gaussian)  |   0.556144 |    0.556144 | 0.387752 | 0.008704900741577148s | 0.0032339096069335938s |\n",
      "+-------------------------+------------+-------------+----------+-----------------------+------------------------+\n",
      "| Naive Bayes (Bernoulli) |   0.559092 |    0.559092 | 0.383981 | 0.016360998153686523s | 0.0063021183013916016s |\n",
      "+-------------------------+------------+-------------+----------+-----------------------+------------------------+\n"
     ]
    }
   ],
   "source": [
    "diabetesTable = []\n",
    "\n",
    "diabetesTable += calcKNN(xDiabetesTrain, xDiabetesTest, yDiabetesTrain, yDiabetesTest)\n",
    "diabetesTable += calcPerceptron(xDiabetesTrain, xDiabetesTest, yDiabetesTrain, yDiabetesTest)\n",
    "diabetesTable += calcGaussianNaiveBayes(xDiabetesTrain, xDiabetesTest, yDiabetesTrain, yDiabetesTest)\n",
    "diabetesTable += calcBernoulliNaiveBayes(xDiabetesTrain, xDiabetesTest, yDiabetesTrain, yDiabetesTest)\n",
    "\n",
    "printTable(columns, diabetesTable)"
   ]
  }
 ],
 "metadata": {
  "kernelspec": {
   "display_name": "Python 3",
   "language": "python",
   "name": "python3"
  },
  "language_info": {
   "codemirror_mode": {
    "name": "ipython",
    "version": 3
   },
   "file_extension": ".py",
   "mimetype": "text/x-python",
   "name": "python",
   "nbconvert_exporter": "python",
   "pygments_lexer": "ipython3",
   "version": "3.11.6"
  }
 },
 "nbformat": 4,
 "nbformat_minor": 2
}
